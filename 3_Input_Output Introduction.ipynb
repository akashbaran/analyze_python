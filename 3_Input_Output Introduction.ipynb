{
 "cells": [
  {
   "cell_type": "code",
   "execution_count": 7,
   "metadata": {},
   "outputs": [
    {
     "name": "stdout",
     "output_type": "stream",
     "text": [
      "             street        city    zip state  beds  baths  sq__ft  \\\n",
      "0      3526 HIGH ST  SACRAMENTO  95838    CA     2      1     836   \n",
      "1       51 OMAHA CT  SACRAMENTO  95823    CA     3      1    1167   \n",
      "2    2796 BRANCH ST  SACRAMENTO  95815    CA     2      1     796   \n",
      "3  2805 JANETTE WAY  SACRAMENTO  95815    CA     2      1     852   \n",
      "4   6001 MCMAHON DR  SACRAMENTO  95824    CA     2      1     797   \n",
      "\n",
      "          type                     sale_date  price   latitude   longitude  \n",
      "0  Residential  Wed May 21 00:00:00 EDT 2008  59222  38.631913 -121.434879  \n",
      "1  Residential  Wed May 21 00:00:00 EDT 2008  68212  38.478902 -121.431028  \n",
      "2  Residential  Wed May 21 00:00:00 EDT 2008  68880  38.618305 -121.443839  \n",
      "3  Residential  Wed May 21 00:00:00 EDT 2008  69307  38.616835 -121.439146  \n",
      "4  Residential  Wed May 21 00:00:00 EDT 2008  81900  38.519470 -121.435768  \n"
     ]
    }
   ],
   "source": [
    "import pandas as pd\n",
    "\n",
    "df = pd.read_csv('realestate.csv')\n",
    "print(df.head())\n"
   ]
  },
  {
   "cell_type": "code",
   "execution_count": 8,
   "metadata": {},
   "outputs": [],
   "source": [
    "df.to_csv('newcsv.csv')     # creates a new csv"
   ]
  },
  {
   "cell_type": "code",
   "execution_count": 10,
   "metadata": {},
   "outputs": [],
   "source": [
    "df['street'].to_csv('newcsv2.csv')   # only column to new csv"
   ]
  },
  {
   "cell_type": "code",
   "execution_count": 11,
   "metadata": {},
   "outputs": [],
   "source": [
    "df = df.set_index('zip')"
   ]
  },
  {
   "cell_type": "code",
   "execution_count": 12,
   "metadata": {},
   "outputs": [
    {
     "name": "stdout",
     "output_type": "stream",
     "text": [
      "                 street        city state  beds  baths  sq__ft         type  \\\n",
      "zip                                                                           \n",
      "95838      3526 HIGH ST  SACRAMENTO    CA     2      1     836  Residential   \n",
      "95823       51 OMAHA CT  SACRAMENTO    CA     3      1    1167  Residential   \n",
      "95815    2796 BRANCH ST  SACRAMENTO    CA     2      1     796  Residential   \n",
      "95815  2805 JANETTE WAY  SACRAMENTO    CA     2      1     852  Residential   \n",
      "95824   6001 MCMAHON DR  SACRAMENTO    CA     2      1     797  Residential   \n",
      "\n",
      "                          sale_date  price   latitude   longitude  \n",
      "zip                                                                \n",
      "95838  Wed May 21 00:00:00 EDT 2008  59222  38.631913 -121.434879  \n",
      "95823  Wed May 21 00:00:00 EDT 2008  68212  38.478902 -121.431028  \n",
      "95815  Wed May 21 00:00:00 EDT 2008  68880  38.618305 -121.443839  \n",
      "95815  Wed May 21 00:00:00 EDT 2008  69307  38.616835 -121.439146  \n",
      "95824  Wed May 21 00:00:00 EDT 2008  81900  38.519470 -121.435768  \n"
     ]
    }
   ],
   "source": [
    "print(df.head())"
   ]
  },
  {
   "cell_type": "code",
   "execution_count": 15,
   "metadata": {},
   "outputs": [],
   "source": [
    "df.set_index('street', inplace=True)"
   ]
  },
  {
   "cell_type": "code",
   "execution_count": 16,
   "metadata": {},
   "outputs": [
    {
     "name": "stdout",
     "output_type": "stream",
     "text": [
      "                        city state  beds  baths  sq__ft         type  \\\n",
      "street                                                                 \n",
      "3526 HIGH ST      SACRAMENTO    CA     2      1     836  Residential   \n",
      "51 OMAHA CT       SACRAMENTO    CA     3      1    1167  Residential   \n",
      "2796 BRANCH ST    SACRAMENTO    CA     2      1     796  Residential   \n",
      "2805 JANETTE WAY  SACRAMENTO    CA     2      1     852  Residential   \n",
      "6001 MCMAHON DR   SACRAMENTO    CA     2      1     797  Residential   \n",
      "\n",
      "                                     sale_date  price   latitude   longitude  \n",
      "street                                                                        \n",
      "3526 HIGH ST      Wed May 21 00:00:00 EDT 2008  59222  38.631913 -121.434879  \n",
      "51 OMAHA CT       Wed May 21 00:00:00 EDT 2008  68212  38.478902 -121.431028  \n",
      "2796 BRANCH ST    Wed May 21 00:00:00 EDT 2008  68880  38.618305 -121.443839  \n",
      "2805 JANETTE WAY  Wed May 21 00:00:00 EDT 2008  69307  38.616835 -121.439146  \n",
      "6001 MCMAHON DR   Wed May 21 00:00:00 EDT 2008  81900  38.519470 -121.435768  \n"
     ]
    }
   ],
   "source": [
    "print(df.head())"
   ]
  },
  {
   "cell_type": "code",
   "execution_count": 17,
   "metadata": {},
   "outputs": [
    {
     "ename": "KeyError",
     "evalue": "\"None of ['zip'] are in the columns\"",
     "output_type": "error",
     "traceback": [
      "\u001b[1;31m---------------------------------------------------------------------------\u001b[0m",
      "\u001b[1;31mKeyError\u001b[0m                                  Traceback (most recent call last)",
      "\u001b[1;32m<ipython-input-17-6f7296168c7a>\u001b[0m in \u001b[0;36m<module>\u001b[1;34m\u001b[0m\n\u001b[1;32m----> 1\u001b[1;33m \u001b[0mdf\u001b[0m\u001b[1;33m.\u001b[0m\u001b[0mset_index\u001b[0m\u001b[1;33m(\u001b[0m\u001b[1;34m'zip'\u001b[0m\u001b[1;33m,\u001b[0m \u001b[0minplace\u001b[0m\u001b[1;33m=\u001b[0m\u001b[1;32mTrue\u001b[0m\u001b[1;33m)\u001b[0m\u001b[1;33m\u001b[0m\u001b[1;33m\u001b[0m\u001b[0m\n\u001b[0m",
      "\u001b[1;32m~\\Anaconda3\\lib\\site-packages\\pandas\\core\\frame.py\u001b[0m in \u001b[0;36mset_index\u001b[1;34m(self, keys, drop, append, inplace, verify_integrity)\u001b[0m\n\u001b[0;32m   4301\u001b[0m \u001b[1;33m\u001b[0m\u001b[0m\n\u001b[0;32m   4302\u001b[0m         \u001b[1;32mif\u001b[0m \u001b[0mmissing\u001b[0m\u001b[1;33m:\u001b[0m\u001b[1;33m\u001b[0m\u001b[1;33m\u001b[0m\u001b[0m\n\u001b[1;32m-> 4303\u001b[1;33m             \u001b[1;32mraise\u001b[0m \u001b[0mKeyError\u001b[0m\u001b[1;33m(\u001b[0m\u001b[1;34mf\"None of {missing} are in the columns\"\u001b[0m\u001b[1;33m)\u001b[0m\u001b[1;33m\u001b[0m\u001b[1;33m\u001b[0m\u001b[0m\n\u001b[0m\u001b[0;32m   4304\u001b[0m \u001b[1;33m\u001b[0m\u001b[0m\n\u001b[0;32m   4305\u001b[0m         \u001b[1;32mif\u001b[0m \u001b[0minplace\u001b[0m\u001b[1;33m:\u001b[0m\u001b[1;33m\u001b[0m\u001b[1;33m\u001b[0m\u001b[0m\n",
      "\u001b[1;31mKeyError\u001b[0m: \"None of ['zip'] are in the columns\""
     ]
    }
   ],
   "source": [
    "df.set_index('zip', inplace=True)"
   ]
  },
  {
   "cell_type": "code",
   "execution_count": 18,
   "metadata": {},
   "outputs": [],
   "source": [
    "import pandas as pd\n",
    "\n",
    "df = pd.read_csv('realestate.csv')\n",
    "df.set_index('zip', inplace=True)"
   ]
  },
  {
   "cell_type": "code",
   "execution_count": 19,
   "metadata": {},
   "outputs": [
    {
     "name": "stdout",
     "output_type": "stream",
     "text": [
      "                 street        city state  beds  baths  sq__ft         type  \\\n",
      "zip                                                                           \n",
      "95838      3526 HIGH ST  SACRAMENTO    CA     2      1     836  Residential   \n",
      "95823       51 OMAHA CT  SACRAMENTO    CA     3      1    1167  Residential   \n",
      "95815    2796 BRANCH ST  SACRAMENTO    CA     2      1     796  Residential   \n",
      "95815  2805 JANETTE WAY  SACRAMENTO    CA     2      1     852  Residential   \n",
      "95824   6001 MCMAHON DR  SACRAMENTO    CA     2      1     797  Residential   \n",
      "\n",
      "                          sale_date  price   latitude   longitude  \n",
      "zip                                                                \n",
      "95838  Wed May 21 00:00:00 EDT 2008  59222  38.631913 -121.434879  \n",
      "95823  Wed May 21 00:00:00 EDT 2008  68212  38.478902 -121.431028  \n",
      "95815  Wed May 21 00:00:00 EDT 2008  68880  38.618305 -121.443839  \n",
      "95815  Wed May 21 00:00:00 EDT 2008  69307  38.616835 -121.439146  \n",
      "95824  Wed May 21 00:00:00 EDT 2008  81900  38.519470 -121.435768  \n"
     ]
    }
   ],
   "source": [
    "print(df.head())"
   ]
  },
  {
   "cell_type": "code",
   "execution_count": 20,
   "metadata": {},
   "outputs": [],
   "source": [
    "df['street'].to_csv('newcsv2.csv')"
   ]
  },
  {
   "cell_type": "code",
   "execution_count": 21,
   "metadata": {},
   "outputs": [],
   "source": [
    "df = pd.read_csv('newcsv2.csv')"
   ]
  },
  {
   "cell_type": "code",
   "execution_count": 22,
   "metadata": {},
   "outputs": [
    {
     "name": "stdout",
     "output_type": "stream",
     "text": [
      "     zip            street\n",
      "0  95838      3526 HIGH ST\n",
      "1  95823       51 OMAHA CT\n",
      "2  95815    2796 BRANCH ST\n",
      "3  95815  2805 JANETTE WAY\n",
      "4  95824   6001 MCMAHON DR\n"
     ]
    }
   ],
   "source": [
    "print(df.head())"
   ]
  },
  {
   "cell_type": "code",
   "execution_count": 23,
   "metadata": {},
   "outputs": [
    {
     "name": "stdout",
     "output_type": "stream",
     "text": [
      "                 street\n",
      "zip                    \n",
      "95838      3526 HIGH ST\n",
      "95823       51 OMAHA CT\n",
      "95815    2796 BRANCH ST\n",
      "95815  2805 JANETTE WAY\n",
      "95824   6001 MCMAHON DR\n"
     ]
    }
   ],
   "source": [
    "# changing default index to customized\n",
    "df = pd.read_csv('newcsv2.csv', index_col=0)\n",
    "print(df.head())"
   ]
  },
  {
   "cell_type": "code",
   "execution_count": 24,
   "metadata": {},
   "outputs": [],
   "source": [
    "# we can also change column title using, names = ['', '']  ..."
   ]
  },
  {
   "cell_type": "code",
   "execution_count": 25,
   "metadata": {},
   "outputs": [],
   "source": [
    "df.to_csv('newcsv3.csv')   # u will find zip and street and column headers.."
   ]
  },
  {
   "cell_type": "code",
   "execution_count": 26,
   "metadata": {},
   "outputs": [],
   "source": [
    "# if u want, the column names can be removed\n",
    "df.to_csv('newcsv4.csv', header=False)"
   ]
  },
  {
   "cell_type": "code",
   "execution_count": 27,
   "metadata": {},
   "outputs": [],
   "source": [
    "# read_hdf and to_hdf - Hierarchical Data Format"
   ]
  },
  {
   "cell_type": "code",
   "execution_count": 28,
   "metadata": {},
   "outputs": [
    {
     "name": "stdout",
     "output_type": "stream",
     "text": [
      "                 street\n",
      "zip                    \n",
      "95838      3526 HIGH ST\n",
      "95823       51 OMAHA CT\n",
      "95815    2796 BRANCH ST\n",
      "95815  2805 JANETTE WAY\n",
      "95824   6001 MCMAHON DR\n"
     ]
    }
   ],
   "source": [
    "import pandas as pd\n",
    "\n",
    "df = pd.read_csv('newcsv4.csv', names=['zip', 'street'], index_col=0)\n",
    "print(df.head())"
   ]
  },
  {
   "cell_type": "code",
   "execution_count": 45,
   "metadata": {},
   "outputs": [
    {
     "name": "stdout",
     "output_type": "stream",
     "text": [
      "                        city    zip state  beds  baths  sq__ft         type  \\\n",
      "street                                                                        \n",
      "3526 HIGH ST      SACRAMENTO  95838    CA     2      1     836  Residential   \n",
      "51 OMAHA CT       SACRAMENTO  95823    CA     3      1    1167  Residential   \n",
      "2796 BRANCH ST    SACRAMENTO  95815    CA     2      1     796  Residential   \n",
      "2805 JANETTE WAY  SACRAMENTO  95815    CA     2      1     852  Residential   \n",
      "6001 MCMAHON DR   SACRAMENTO  95824    CA     2      1     797  Residential   \n",
      "\n",
      "                                     sale_date  price   latitude   longitude  \n",
      "street                                                                        \n",
      "3526 HIGH ST      Wed May 21 00:00:00 EDT 2008  59222  38.631913 -121.434879  \n",
      "51 OMAHA CT       Wed May 21 00:00:00 EDT 2008  68212  38.478902 -121.431028  \n",
      "2796 BRANCH ST    Wed May 21 00:00:00 EDT 2008  68880  38.618305 -121.443839  \n",
      "2805 JANETTE WAY  Wed May 21 00:00:00 EDT 2008  69307  38.616835 -121.439146  \n",
      "6001 MCMAHON DR   Wed May 21 00:00:00 EDT 2008  81900  38.519470 -121.435768  \n"
     ]
    }
   ],
   "source": [
    "import pandas as pd\n",
    "\n",
    "df = pd.read_csv('realestate.csv', index_col=0)\n",
    "print(df.head())"
   ]
  },
  {
   "cell_type": "code",
   "execution_count": 46,
   "metadata": {},
   "outputs": [
    {
     "name": "stdout",
     "output_type": "stream",
     "text": [
      "<class 'pandas.io.pytables.HDFStore'>\n",
      "File path: hdfstore2.h5\n",
      "\n",
      "(985, 11)\n",
      "                                city    zip state  beds  baths  sq__ft  \\\n",
      "street                                                                   \n",
      "3526 HIGH ST              SACRAMENTO  95838    CA     2      1     836   \n",
      "51 OMAHA CT               SACRAMENTO  95823    CA     3      1    1167   \n",
      "2796 BRANCH ST            SACRAMENTO  95815    CA     2      1     796   \n",
      "2805 JANETTE WAY          SACRAMENTO  95815    CA     2      1     852   \n",
      "6001 MCMAHON DR           SACRAMENTO  95824    CA     2      1     797   \n",
      "...                              ...    ...   ...   ...    ...     ...   \n",
      "9169 GARLINGTON CT        SACRAMENTO  95829    CA     4      3    2280   \n",
      "6932 RUSKUT WAY           SACRAMENTO  95823    CA     3      2    1477   \n",
      "7933 DAFFODIL WAY     CITRUS HEIGHTS  95610    CA     3      2    1216   \n",
      "8304 RED FOX WAY           ELK GROVE  95758    CA     4      2    1685   \n",
      "3882 YELLOWSTONE LN  EL DORADO HILLS  95762    CA     3      2    1362   \n",
      "\n",
      "                            type                     sale_date   price  \\\n",
      "street                                                                   \n",
      "3526 HIGH ST         Residential  Wed May 21 00:00:00 EDT 2008   59222   \n",
      "51 OMAHA CT          Residential  Wed May 21 00:00:00 EDT 2008   68212   \n",
      "2796 BRANCH ST       Residential  Wed May 21 00:00:00 EDT 2008   68880   \n",
      "2805 JANETTE WAY     Residential  Wed May 21 00:00:00 EDT 2008   69307   \n",
      "6001 MCMAHON DR      Residential  Wed May 21 00:00:00 EDT 2008   81900   \n",
      "...                          ...                           ...     ...   \n",
      "9169 GARLINGTON CT   Residential  Thu May 15 00:00:00 EDT 2008  232425   \n",
      "6932 RUSKUT WAY      Residential  Thu May 15 00:00:00 EDT 2008  234000   \n",
      "7933 DAFFODIL WAY    Residential  Thu May 15 00:00:00 EDT 2008  235000   \n",
      "8304 RED FOX WAY     Residential  Thu May 15 00:00:00 EDT 2008  235301   \n",
      "3882 YELLOWSTONE LN  Residential  Thu May 15 00:00:00 EDT 2008  235738   \n",
      "\n",
      "                      latitude   longitude  \n",
      "street                                      \n",
      "3526 HIGH ST         38.631913 -121.434879  \n",
      "51 OMAHA CT          38.478902 -121.431028  \n",
      "2796 BRANCH ST       38.618305 -121.443839  \n",
      "2805 JANETTE WAY     38.616835 -121.439146  \n",
      "6001 MCMAHON DR      38.519470 -121.435768  \n",
      "...                        ...         ...  \n",
      "9169 GARLINGTON CT   38.457679 -121.359620  \n",
      "6932 RUSKUT WAY      38.499893 -121.458890  \n",
      "7933 DAFFODIL WAY    38.708824 -121.256803  \n",
      "8304 RED FOX WAY     38.417000 -121.397424  \n",
      "3882 YELLOWSTONE LN  38.655245 -121.075915  \n",
      "\n",
      "[985 rows x 11 columns]\n"
     ]
    }
   ],
   "source": [
    "store = pd.HDFStore('hdfstore2.h5')\n",
    "print(store)\n",
    "\n",
    "store.put('d1', df, format='table', data_columns=True)\n",
    "print(store['d1'].shape)   # rows and column info\n",
    "store.close()\n",
    "\n",
    "# reading hdf file\n",
    "hdf = pd.read_hdf('hdfstore2.h5', 'd1')\n",
    "print(hdf)\n",
    "store.close()"
   ]
  },
  {
   "cell_type": "code",
   "execution_count": 36,
   "metadata": {},
   "outputs": [],
   "source": [
    "# reading csv, storing in hdf file and reading from hdf file....\n",
    "# hdf file is mostly used for graphic content data like stocks. "
   ]
  },
  {
   "cell_type": "code",
   "execution_count": 37,
   "metadata": {},
   "outputs": [],
   "source": [
    "# JSON - input and output"
   ]
  },
  {
   "cell_type": "code",
   "execution_count": 47,
   "metadata": {},
   "outputs": [
    {
     "name": "stdout",
     "output_type": "stream",
     "text": [
      "                        city    zip state  beds  baths  sq__ft         type  \\\n",
      "street                                                                        \n",
      "3526 HIGH ST      SACRAMENTO  95838    CA     2      1     836  Residential   \n",
      "51 OMAHA CT       SACRAMENTO  95823    CA     3      1    1167  Residential   \n",
      "2796 BRANCH ST    SACRAMENTO  95815    CA     2      1     796  Residential   \n",
      "2805 JANETTE WAY  SACRAMENTO  95815    CA     2      1     852  Residential   \n",
      "6001 MCMAHON DR   SACRAMENTO  95824    CA     2      1     797  Residential   \n",
      "\n",
      "                                     sale_date  price   latitude   longitude  \n",
      "street                                                                        \n",
      "3526 HIGH ST      Wed May 21 00:00:00 EDT 2008  59222  38.631913 -121.434879  \n",
      "51 OMAHA CT       Wed May 21 00:00:00 EDT 2008  68212  38.478902 -121.431028  \n",
      "2796 BRANCH ST    Wed May 21 00:00:00 EDT 2008  68880  38.618305 -121.443839  \n",
      "2805 JANETTE WAY  Wed May 21 00:00:00 EDT 2008  69307  38.616835 -121.439146  \n",
      "6001 MCMAHON DR   Wed May 21 00:00:00 EDT 2008  81900  38.519470 -121.435768  \n"
     ]
    },
    {
     "ename": "ValueError",
     "evalue": "DataFrame index must be unique for orient='columns'.",
     "output_type": "error",
     "traceback": [
      "\u001b[1;31m---------------------------------------------------------------------------\u001b[0m",
      "\u001b[1;31mValueError\u001b[0m                                Traceback (most recent call last)",
      "\u001b[1;32m<ipython-input-47-2e17c58ef726>\u001b[0m in \u001b[0;36m<module>\u001b[1;34m\u001b[0m\n\u001b[0;32m      4\u001b[0m \u001b[0mprint\u001b[0m\u001b[1;33m(\u001b[0m\u001b[0mdf\u001b[0m\u001b[1;33m.\u001b[0m\u001b[0mhead\u001b[0m\u001b[1;33m(\u001b[0m\u001b[1;33m)\u001b[0m\u001b[1;33m)\u001b[0m\u001b[1;33m\u001b[0m\u001b[1;33m\u001b[0m\u001b[0m\n\u001b[0;32m      5\u001b[0m \u001b[1;31m# saving output to json and check if json created in directory(manually)\u001b[0m\u001b[1;33m\u001b[0m\u001b[1;33m\u001b[0m\u001b[1;33m\u001b[0m\u001b[0m\n\u001b[1;32m----> 6\u001b[1;33m \u001b[0mdf\u001b[0m\u001b[1;33m.\u001b[0m\u001b[0mto_json\u001b[0m\u001b[1;33m(\u001b[0m\u001b[1;34m'json_example.json'\u001b[0m\u001b[1;33m)\u001b[0m\u001b[1;33m\u001b[0m\u001b[1;33m\u001b[0m\u001b[0m\n\u001b[0m\u001b[0;32m      7\u001b[0m \u001b[1;31m# reading data from json\u001b[0m\u001b[1;33m\u001b[0m\u001b[1;33m\u001b[0m\u001b[1;33m\u001b[0m\u001b[0m\n\u001b[0;32m      8\u001b[0m \u001b[0mdf2\u001b[0m \u001b[1;33m=\u001b[0m \u001b[0mpd\u001b[0m\u001b[1;33m.\u001b[0m\u001b[0mread_json\u001b[0m\u001b[1;33m(\u001b[0m\u001b[1;34m'json_example.json'\u001b[0m\u001b[1;33m)\u001b[0m\u001b[1;33m\u001b[0m\u001b[1;33m\u001b[0m\u001b[0m\n",
      "\u001b[1;32m~\\Anaconda3\\lib\\site-packages\\pandas\\core\\generic.py\u001b[0m in \u001b[0;36mto_json\u001b[1;34m(self, path_or_buf, orient, date_format, double_precision, force_ascii, date_unit, default_handler, lines, compression, index, indent)\u001b[0m\n\u001b[0;32m   2362\u001b[0m             \u001b[0mcompression\u001b[0m\u001b[1;33m=\u001b[0m\u001b[0mcompression\u001b[0m\u001b[1;33m,\u001b[0m\u001b[1;33m\u001b[0m\u001b[1;33m\u001b[0m\u001b[0m\n\u001b[0;32m   2363\u001b[0m             \u001b[0mindex\u001b[0m\u001b[1;33m=\u001b[0m\u001b[0mindex\u001b[0m\u001b[1;33m,\u001b[0m\u001b[1;33m\u001b[0m\u001b[1;33m\u001b[0m\u001b[0m\n\u001b[1;32m-> 2364\u001b[1;33m             \u001b[0mindent\u001b[0m\u001b[1;33m=\u001b[0m\u001b[0mindent\u001b[0m\u001b[1;33m,\u001b[0m\u001b[1;33m\u001b[0m\u001b[1;33m\u001b[0m\u001b[0m\n\u001b[0m\u001b[0;32m   2365\u001b[0m         )\n\u001b[0;32m   2366\u001b[0m \u001b[1;33m\u001b[0m\u001b[0m\n",
      "\u001b[1;32m~\\Anaconda3\\lib\\site-packages\\pandas\\io\\json\\_json.py\u001b[0m in \u001b[0;36mto_json\u001b[1;34m(path_or_buf, obj, orient, date_format, double_precision, force_ascii, date_unit, default_handler, lines, compression, index, indent)\u001b[0m\n\u001b[0;32m     83\u001b[0m         \u001b[0mdefault_handler\u001b[0m\u001b[1;33m=\u001b[0m\u001b[0mdefault_handler\u001b[0m\u001b[1;33m,\u001b[0m\u001b[1;33m\u001b[0m\u001b[1;33m\u001b[0m\u001b[0m\n\u001b[0;32m     84\u001b[0m         \u001b[0mindex\u001b[0m\u001b[1;33m=\u001b[0m\u001b[0mindex\u001b[0m\u001b[1;33m,\u001b[0m\u001b[1;33m\u001b[0m\u001b[1;33m\u001b[0m\u001b[0m\n\u001b[1;32m---> 85\u001b[1;33m         \u001b[0mindent\u001b[0m\u001b[1;33m=\u001b[0m\u001b[0mindent\u001b[0m\u001b[1;33m,\u001b[0m\u001b[1;33m\u001b[0m\u001b[1;33m\u001b[0m\u001b[0m\n\u001b[0m\u001b[0;32m     86\u001b[0m     ).write()\n\u001b[0;32m     87\u001b[0m \u001b[1;33m\u001b[0m\u001b[0m\n",
      "\u001b[1;32m~\\Anaconda3\\lib\\site-packages\\pandas\\io\\json\\_json.py\u001b[0m in \u001b[0;36m__init__\u001b[1;34m(self, obj, orient, date_format, double_precision, ensure_ascii, date_unit, index, default_handler, indent)\u001b[0m\n\u001b[0;32m    129\u001b[0m \u001b[1;33m\u001b[0m\u001b[0m\n\u001b[0;32m    130\u001b[0m         \u001b[0mself\u001b[0m\u001b[1;33m.\u001b[0m\u001b[0mis_copy\u001b[0m \u001b[1;33m=\u001b[0m \u001b[1;32mNone\u001b[0m\u001b[1;33m\u001b[0m\u001b[1;33m\u001b[0m\u001b[0m\n\u001b[1;32m--> 131\u001b[1;33m         \u001b[0mself\u001b[0m\u001b[1;33m.\u001b[0m\u001b[0m_format_axes\u001b[0m\u001b[1;33m(\u001b[0m\u001b[1;33m)\u001b[0m\u001b[1;33m\u001b[0m\u001b[1;33m\u001b[0m\u001b[0m\n\u001b[0m\u001b[0;32m    132\u001b[0m \u001b[1;33m\u001b[0m\u001b[0m\n\u001b[0;32m    133\u001b[0m     \u001b[1;32mdef\u001b[0m \u001b[0m_format_axes\u001b[0m\u001b[1;33m(\u001b[0m\u001b[0mself\u001b[0m\u001b[1;33m)\u001b[0m\u001b[1;33m:\u001b[0m\u001b[1;33m\u001b[0m\u001b[1;33m\u001b[0m\u001b[0m\n",
      "\u001b[1;32m~\\Anaconda3\\lib\\site-packages\\pandas\\io\\json\\_json.py\u001b[0m in \u001b[0;36m_format_axes\u001b[1;34m(self)\u001b[0m\n\u001b[0;32m    210\u001b[0m         \u001b[1;32mif\u001b[0m \u001b[1;32mnot\u001b[0m \u001b[0mself\u001b[0m\u001b[1;33m.\u001b[0m\u001b[0mobj\u001b[0m\u001b[1;33m.\u001b[0m\u001b[0mindex\u001b[0m\u001b[1;33m.\u001b[0m\u001b[0mis_unique\u001b[0m \u001b[1;32mand\u001b[0m \u001b[0mself\u001b[0m\u001b[1;33m.\u001b[0m\u001b[0morient\u001b[0m \u001b[1;32min\u001b[0m \u001b[1;33m(\u001b[0m\u001b[1;34m\"index\"\u001b[0m\u001b[1;33m,\u001b[0m \u001b[1;34m\"columns\"\u001b[0m\u001b[1;33m)\u001b[0m\u001b[1;33m:\u001b[0m\u001b[1;33m\u001b[0m\u001b[1;33m\u001b[0m\u001b[0m\n\u001b[0;32m    211\u001b[0m             raise ValueError(\n\u001b[1;32m--> 212\u001b[1;33m                 \u001b[1;34mf\"DataFrame index must be unique for orient='{self.orient}'.\"\u001b[0m\u001b[1;33m\u001b[0m\u001b[1;33m\u001b[0m\u001b[0m\n\u001b[0m\u001b[0;32m    213\u001b[0m             )\n\u001b[0;32m    214\u001b[0m         if not self.obj.columns.is_unique and self.orient in (\n",
      "\u001b[1;31mValueError\u001b[0m: DataFrame index must be unique for orient='columns'."
     ]
    }
   ],
   "source": [
    "import pandas as pd\n",
    "# reading from hdf\n",
    "df = pd.read_hdf('hdfstore2.h5', 'd1')\n",
    "print(df.head())\n",
    "# saving output to json and check if json created in directory(manually)\n",
    "df.to_json('json_example.json')\n",
    "# reading data from json\n",
    "df2 = pd.read_json('json_example.json')\n",
    "print(df2.head())\n"
   ]
  },
  {
   "cell_type": "code",
   "execution_count": 48,
   "metadata": {},
   "outputs": [],
   "source": [
    "# json file could not be created as the index in the hdf/csv file were not unique.\n",
    "# please try with unique values... syntax remains same."
   ]
  },
  {
   "cell_type": "code",
   "execution_count": 52,
   "metadata": {},
   "outputs": [],
   "source": []
  },
  {
   "cell_type": "code",
   "execution_count": null,
   "metadata": {},
   "outputs": [],
   "source": []
  }
 ],
 "metadata": {
  "kernelspec": {
   "display_name": "Python 3",
   "language": "python",
   "name": "python3"
  },
  "language_info": {
   "codemirror_mode": {
    "name": "ipython",
    "version": 3
   },
   "file_extension": ".py",
   "mimetype": "text/x-python",
   "name": "python",
   "nbconvert_exporter": "python",
   "pygments_lexer": "ipython3",
   "version": "3.7.6"
  }
 },
 "nbformat": 4,
 "nbformat_minor": 4
}
