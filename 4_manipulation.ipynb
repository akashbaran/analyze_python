{
 "cells": [
  {
   "cell_type": "code",
   "execution_count": 11,
   "metadata": {},
   "outputs": [
    {
     "name": "stdout",
     "output_type": "stream",
     "text": [
      "                 High        Low       Open      Close      Volume  Adj Close\n",
      "Date                                                                         \n",
      "2009-12-31  28.430000  28.020000  28.290001  28.030001  16071000.0  15.707478\n",
      "2010-01-04  28.610001  28.280001  28.410000  28.580000  29136600.0  16.015694\n",
      "2010-01-05  28.730000  28.350000  28.700001  28.440001  35234500.0  15.937237\n",
      "2010-01-06  28.030001  27.549999  27.950001  27.610001  37894600.0  15.704037\n",
      "2010-01-07  27.690001  27.120001  27.580000  27.299999  33600300.0  15.527716\n",
      "Modifying column open\n",
      "                 High        Low   Open      Close      Volume  Adj Close\n",
      "Date                                                                     \n",
      "2009-12-31  28.430000  28.020000  2.829  28.030001  16071000.0  15.707478\n",
      "2010-01-04  28.610001  28.280001  2.841  28.580000  29136600.0  16.015694\n",
      "2010-01-05  28.730000  28.350000  2.870  28.440001  35234500.0  15.937237\n",
      "2010-01-06  28.030001  27.549999  2.795  27.610001  37894600.0  15.704037\n",
      "2010-01-07  27.690001  27.120001  2.758  27.299999  33600300.0  15.527716\n",
      "                 High        Low   Open      Close      Volume  Adj Close  \\\n",
      "Date                                                                        \n",
      "2009-12-31  28.430000  28.020000  2.829  28.030001  16071000.0  15.707478   \n",
      "2010-01-04  28.610001  28.280001  2.841  28.580000  29136600.0  16.015694   \n",
      "2010-01-05  28.730000  28.350000  2.870  28.440001  35234500.0  15.937237   \n",
      "2010-01-06  28.030001  27.549999  2.795  27.610001  37894600.0  15.704037   \n",
      "2010-01-07  27.690001  27.120001  2.758  27.299999  33600300.0  15.527716   \n",
      "\n",
      "                Diff  \n",
      "Date                  \n",
      "2009-12-31  0.410000  \n",
      "2010-01-04  0.330000  \n",
      "2010-01-05  0.379999  \n",
      "2010-01-06  0.480001  \n",
      "2010-01-07  0.570000  \n"
     ]
    }
   ],
   "source": [
    "import pandas as pd\n",
    "import datetime\n",
    "from pandas_datareader import data, wb\n",
    "\n",
    "start = datetime.datetime(2010, 1, 1)\n",
    "end = datetime.datetime(2011, 1, 1)\n",
    "\n",
    "#reading data from yahoo api using ticker t\n",
    "att = data.DataReader(\"T\", \"yahoo\", start, end)\n",
    "print(att.head())\n",
    "print(\"Modifying column open\")\n",
    "att['Open'] = att['Open'] / 10\n",
    "print(att.head())\n",
    "\n",
    "att['Diff'] = att['High'] - att['Low']\n",
    "print(att.head())"
   ]
  },
  {
   "cell_type": "code",
   "execution_count": 13,
   "metadata": {},
   "outputs": [
    {
     "name": "stdout",
     "output_type": "stream",
     "text": [
      "                 High        Low       Open      Close      Volume  Adj Close\n",
      "Date                                                                         \n",
      "2009-12-31  28.430000  28.020000  28.290001  28.030001  16071000.0  15.707478\n",
      "2010-01-04  28.610001  28.280001  28.410000  28.580000  29136600.0  16.015694\n",
      "2010-01-05  28.730000  28.350000  28.700001  28.440001  35234500.0  15.937237\n",
      "2010-01-06  28.030001  27.549999  27.950001  27.610001  37894600.0  15.704037\n",
      "2010-01-07  27.690001  27.120001  27.580000  27.299999  33600300.0  15.527716\n",
      "                 High        Low       Open      Close      Volume  Adj Close  \\\n",
      "Date                                                                            \n",
      "2009-12-31  28.430000  28.020000  28.290001  28.030001  16071000.0  15.707478   \n",
      "2010-01-04  28.610001  28.280001  28.410000  28.580000  29136600.0  16.015694   \n",
      "2010-01-05  28.730000  28.350000  28.700001  28.440001  35234500.0  15.937237   \n",
      "2010-01-06  28.030001  27.549999  27.950001  27.610001  37894600.0  15.704037   \n",
      "2010-01-07  27.690001  27.120001  27.580000  27.299999  33600300.0  15.527716   \n",
      "\n",
      "            Daily_Rise  \n",
      "Date                    \n",
      "2009-12-31       False  \n",
      "2010-01-04        True  \n",
      "2010-01-05       False  \n",
      "2010-01-06       False  \n",
      "2010-01-07       False  \n",
      "                 High        Low       Open      Close      Volume  Adj Close  \\\n",
      "Date                                                                            \n",
      "2010-01-04  28.610001  28.280001  28.410000  28.580000  29136600.0  16.015694   \n",
      "2010-01-12  27.110001  26.780001  26.850000  26.959999  26307800.0  15.334329   \n",
      "2010-01-19  26.250000  25.799999  25.920000  26.200001  33961700.0  14.902057   \n",
      "2010-01-27  26.120001  25.100000  25.209999  25.620001  58991800.0  14.572161   \n",
      "2010-02-02  25.840000  25.270000  25.370001  25.690001  31119800.0  14.611979   \n",
      "\n",
      "            Daily_Rise  \n",
      "Date                    \n",
      "2010-01-04        True  \n",
      "2010-01-12        True  \n",
      "2010-01-19        True  \n",
      "2010-01-27        True  \n",
      "2010-02-02        True  \n"
     ]
    }
   ],
   "source": [
    "import pandas as pd\n",
    "import datetime\n",
    "from pandas_datareader import data, wb\n",
    "\n",
    "start = datetime.datetime(2010, 1, 1)\n",
    "end = datetime.datetime(2011, 1, 1)\n",
    "\n",
    "#reading data from yahoo api using ticker t\n",
    "att = data.DataReader(\"T\", \"yahoo\", start, end)\n",
    "print(att.head())\n",
    "\n",
    "# adding new column \n",
    "att['Daily_Rise'] = att['Close'] > att['Open']\n",
    "print(att.head())\n",
    "\n",
    "# creating new dataframe where Close is greater than Open.\n",
    "att2 = att[(att['Close'] > att['Open'])]\n",
    "print(att2.head())"
   ]
  },
  {
   "cell_type": "code",
   "execution_count": 1,
   "metadata": {},
   "outputs": [
    {
     "name": "stderr",
     "output_type": "stream",
     "text": [
      "C:\\Users\\akbaranw\\Anaconda3\\lib\\site-packages\\pandas_datareader\\compat\\__init__.py:7: FutureWarning: pandas.util.testing is deprecated. Use the functions in the public API at pandas.testing instead.\n",
      "  from pandas.util.testing import assert_frame_equal\n"
     ]
    },
    {
     "name": "stdout",
     "output_type": "stream",
     "text": [
      "                 High        Low       Open      Close      Volume  Adj Close\n",
      "Date                                                                         \n",
      "2009-12-31  28.430000  28.020000  28.290001  28.030001  16071000.0  15.707478\n",
      "2010-01-04  28.610001  28.280001  28.410000  28.580000  29136600.0  16.015694\n",
      "2010-01-05  28.730000  28.350000  28.700001  28.440001  35234500.0  15.937237\n",
      "2010-01-06  28.030001  27.549999  27.950001  27.610001  37894600.0  15.704037\n",
      "2010-01-07  27.690001  27.120001  27.580000  27.299999  33600300.0  15.527716\n",
      "############################################################\n",
      "             High         Low        Open       Close        Volume  \\\n",
      "count  253.000000  253.000000  253.000000  253.000000  2.530000e+02   \n",
      "mean    26.855296   26.467549   26.680830   26.666206  2.820339e+07   \n",
      "std      1.520455    1.549110    1.532707    1.534081  9.446647e+06   \n",
      "min     24.389999   23.780001   24.010000   24.129999  7.982500e+06   \n",
      "25%     25.600000   25.200001   25.400000   25.400000  2.139620e+07   \n",
      "50%     26.500000   26.110001   26.299999   26.280001  2.662890e+07   \n",
      "75%     28.450001   28.080000   28.270000   28.290001  3.330030e+07   \n",
      "max     29.559999   29.290001   29.500000   29.440001  6.776260e+07   \n",
      "\n",
      "        Adj Close  \n",
      "count  253.000000  \n",
      "mean    15.546924  \n",
      "std      1.116302  \n",
      "min     13.947330  \n",
      "25%     14.600605  \n",
      "50%     15.184264  \n",
      "75%     16.814554  \n",
      "max     17.565746  \n"
     ]
    }
   ],
   "source": [
    "import pandas as pd\n",
    "import datetime\n",
    "from pandas_datareader import data, wb\n",
    "\n",
    "start = datetime.datetime(2010, 1, 1)\n",
    "end = datetime.datetime(2011, 1, 1)\n",
    "\n",
    "#reading data from yahoo api using ticker t\n",
    "att = data.DataReader(\"T\", \"yahoo\", start, end)\n",
    "print(att.head())\n",
    "print(60*'#')\n",
    "print(att.describe())\n"
   ]
  },
  {
   "cell_type": "code",
   "execution_count": 2,
   "metadata": {},
   "outputs": [],
   "source": [
    "# describe function gives us several functionality such as count, mean, min, max etc.."
   ]
  },
  {
   "cell_type": "code",
   "execution_count": 3,
   "metadata": {},
   "outputs": [
    {
     "name": "stdout",
     "output_type": "stream",
     "text": [
      "count    253.000000\n",
      "mean      26.680830\n",
      "std        1.532707\n",
      "min       24.010000\n",
      "25%       25.400000\n",
      "50%       26.299999\n",
      "75%       28.270000\n",
      "max       29.500000\n",
      "Name: Open, dtype: float64\n"
     ]
    }
   ],
   "source": [
    "# another way to this \n",
    "\n",
    "import pandas as pd\n",
    "import datetime\n",
    "from pandas_datareader import data, wb\n",
    "\n",
    "start = datetime.datetime(2010, 1, 1)\n",
    "end = datetime.datetime(2011, 1, 1)\n",
    "\n",
    "#reading data from yahoo api using ticker t\n",
    "att = data.DataReader(\"T\", \"yahoo\", start, end)\n",
    "#print(att.head())\n",
    "#print(60*'#')\n",
    "\n",
    "desc = att.describe()\n",
    "print(desc['Open'])\n"
   ]
  },
  {
   "cell_type": "code",
   "execution_count": 4,
   "metadata": {},
   "outputs": [
    {
     "name": "stdout",
     "output_type": "stream",
     "text": [
      "1.5327070880947993\n"
     ]
    }
   ],
   "source": [
    "# suppose we want to know the stadard deviation of a column\n",
    "print(desc['Open']['std'])"
   ]
  },
  {
   "cell_type": "code",
   "execution_count": 5,
   "metadata": {},
   "outputs": [],
   "source": [
    "# the above the data can be used to compare the std for a time frame with complete\n",
    "# to know the performace of the company."
   ]
  },
  {
   "cell_type": "code",
   "execution_count": 15,
   "metadata": {},
   "outputs": [
    {
     "name": "stdout",
     "output_type": "stream",
     "text": [
      "                 High        Low       Open      Close      Volume  Adj Close  \\\n",
      "Date                                                                            \n",
      "2009-12-31  28.430000  28.020000  28.290001  28.030001  16071000.0  15.707478   \n",
      "2010-01-04  28.610001  28.280001  28.410000  28.580000  29136600.0  16.015694   \n",
      "2010-01-05  28.730000  28.350000  28.700001  28.440001  35234500.0  15.937237   \n",
      "2010-01-06  28.030001  27.549999  27.950001  27.610001  37894600.0  15.704037   \n",
      "2010-01-07  27.690001  27.120001  27.580000  27.299999  33600300.0  15.527716   \n",
      "\n",
      "            50MA  10MA  \n",
      "Date                    \n",
      "2009-12-31   NaN   NaN  \n",
      "2010-01-04   NaN   NaN  \n",
      "2010-01-05   NaN   NaN  \n",
      "2010-01-06   NaN   NaN  \n",
      "2010-01-07   NaN   NaN  \n"
     ]
    }
   ],
   "source": [
    "# Now we will work on Rolling and moving statistics \n",
    "# moving average - they move on basis of time and data.\n",
    "# rolling mean\n",
    "att['50MA'] = att['Close'].rolling(window=50).mean()\n",
    "att['10MA'] = att['Close'].rolling(window=10).mean()\n",
    "print(att.head())"
   ]
  },
  {
   "cell_type": "code",
   "execution_count": 16,
   "metadata": {},
   "outputs": [
    {
     "name": "stdout",
     "output_type": "stream",
     "text": [
      "                 High        Low       Open      Close      Volume  Adj Close  \\\n",
      "Date                                                                            \n",
      "2010-12-27  29.400000  29.150000  29.180000  29.250000  11649400.0  17.452379   \n",
      "2010-12-28  29.400000  29.209999  29.360001  29.230000  13677100.0  17.440443   \n",
      "2010-12-29  29.440001  29.209999  29.290001  29.309999  12230000.0  17.488176   \n",
      "2010-12-30  29.360001  29.209999  29.260000  29.330000  12909200.0  17.500109   \n",
      "2010-12-31  29.530001  29.290001  29.360001  29.379999  15225500.0  17.529942   \n",
      "\n",
      "               50MA    10MA  \n",
      "Date                         \n",
      "2010-12-27  28.6402  29.147  \n",
      "2010-12-28  28.6582  29.192  \n",
      "2010-12-29  28.6720  29.189  \n",
      "2010-12-30  28.6944  29.209  \n",
      "2010-12-31  28.7098  29.224  \n"
     ]
    }
   ],
   "source": [
    "# we get NAN.. lets try with tail().. because there is not enough data.\n",
    "print(att.tail())"
   ]
  },
  {
   "cell_type": "code",
   "execution_count": 18,
   "metadata": {},
   "outputs": [],
   "source": [
    "# another way to try rolling average\n",
    "att['50MA'] = att['Close'].rolling(50).mean()"
   ]
  },
  {
   "cell_type": "code",
   "execution_count": 19,
   "metadata": {},
   "outputs": [
    {
     "name": "stdout",
     "output_type": "stream",
     "text": [
      "                 High        Low       Open      Close      Volume  Adj Close  \\\n",
      "Date                                                                            \n",
      "2010-12-27  29.400000  29.150000  29.180000  29.250000  11649400.0  17.452379   \n",
      "2010-12-28  29.400000  29.209999  29.360001  29.230000  13677100.0  17.440443   \n",
      "2010-12-29  29.440001  29.209999  29.290001  29.309999  12230000.0  17.488176   \n",
      "2010-12-30  29.360001  29.209999  29.260000  29.330000  12909200.0  17.500109   \n",
      "2010-12-31  29.530001  29.290001  29.360001  29.379999  15225500.0  17.529942   \n",
      "\n",
      "               50MA    10MA  \n",
      "Date                         \n",
      "2010-12-27  28.6402  29.147  \n",
      "2010-12-28  28.6582  29.192  \n",
      "2010-12-29  28.6720  29.189  \n",
      "2010-12-30  28.6944  29.209  \n",
      "2010-12-31  28.7098  29.224  \n"
     ]
    }
   ],
   "source": [
    "print(att.tail())"
   ]
  },
  {
   "cell_type": "code",
   "execution_count": 30,
   "metadata": {},
   "outputs": [
    {
     "data": {
      "image/png": "[encoded data removed]",
      "text/plain": [
       "<Figure size 432x288 with 2 Axes>"
      ]
     },
     "metadata": {
      "needs_background": "light"
     },
     "output_type": "display_data"
    },
    {
     "name": "stdout",
     "output_type": "stream",
     "text": [
      "[<matplotlib.axes._subplots.AxesSubplot object at 0x00000196FA95D1C8>\n",
      " <matplotlib.axes._subplots.AxesSubplot object at 0x00000196FA5E9488>]\n",
      "Figure(432x288)\n"
     ]
    }
   ],
   "source": [
    "# let us graph standrd deviation against closing prices.\n",
    "import matplotlib.pyplot as plt\n",
    "fig, axes = plt.subplots(nrows=2, ncols=1)\n",
    "att['50STD'] = att['Close'].rolling(50).std()   # standard deviation of closing price.\n",
    "att['50STD'].plot(ax=axes[1], label='50STD')    # plotted in axis 1\n",
    "\n",
    "att['Close'].plot(ax=axes[0], label='Price')    # closing price\n",
    "att['50MA'].plot(ax=axes[0], label='50MA')      # 50MA - moving average of 50 windows.\n",
    "att['10MA'].plot(ax=axes[0], label='10MA')      # 10MA - moving average of 10 windows.\n",
    "plt.legend(loc=2)\n",
    "plt.show()\n",
    "#showing the values of axes and fig\n",
    "print(axes)\n",
    "print(fig)"
   ]
  },
  {
   "cell_type": "code",
   "execution_count": null,
   "metadata": {},
   "outputs": [],
   "source": []
  }
 ],
 "metadata": {
  "kernelspec": {
   "display_name": "Python 3",
   "language": "python",
   "name": "python3"
  },
  "language_info": {
   "codemirror_mode": {
    "name": "ipython",
    "version": 3
   },
   "file_extension": ".py",
   "mimetype": "text/x-python",
   "name": "python",
   "nbconvert_exporter": "python",
   "pygments_lexer": "ipython3",
   "version": "3.7.6"
  }
 },
 "nbformat": 4,
 "nbformat_minor": 4
}
